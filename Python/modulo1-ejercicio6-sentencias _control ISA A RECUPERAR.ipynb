{
 "cells": [
  {
   "cell_type": "code",
   "execution_count": null,
   "metadata": {},
   "outputs": [],
   "source": [
    "#sentencias if, if ... else, if ... elif ... else o while.\n",
    "#1.En la escuela donde trabajamos tienen el siguiente sistema de notas:\n",
    "        # Below 25 - F\n",
    "        #25 to 45 - E\n",
    "        #45 to 50 - D\n",
    "        #50 to 60 - C\n",
    "        #60 to 80 - B\n",
    "        # bove 80 - A\n",
    "# El objetivo de este ejercicio es que le preguntéis al usuario por una nota (numérica) y nosotros le devolvamos la nota con la letra que le corresponde.\n",
    "\n",
    "# 2.Cread tres inputs donde a cada uno de ellos le preguntéis su edad, el objetivo del ejercicio es determinar quien es el más viejo y el más joven.\n",
    "\n",
    "# 3.Escribid un programa que pregunte el nombre del usuario a través de la función input(). Si el nombre es \"Bond\" haced que imprima \"Bienvenido a bordo de 007\". En caso contrario haced que imprima \"Buenos días NOMBRE\". (Reemplace NOMBRE por el nombre del usuario).\n",
    "\n",
    "# 4.arbol es un diccionario que muestra el número de árboles de países por kilómetro cuadrado para países aleatorios con un número considerable de población. Crea una lista llamada \"masarboles\" que contenga el nombre de los países con más de 20.000 árboles por kilómetro cuadrado.\n",
    "        # tree = {\"Taiwan\": 69593,\n",
    "        # \"Japan\": 49894, \n",
    "        # \"Russia\": 41396, \n",
    "        # \"Canada\": 36388, \n",
    "        # \"Bulgaria\": 24987}\n",
    "#Los alumnos de un curso se han dividido en dos grupos A y B de acuerdo al sexo y el nombre. El grupo A esta formado por las mujeres con un nombre anterior a la M y los hombres con un nombre posterior a la N y el grupo B por el resto. Escribid un programa que pregunte al usuario su nombre y sexo, y muestre por pantalla el grupo que le corresponde.\n",
    "\n",
    "#3.Escribid un programa que:\n",
    "#Dada la variable z con valor 0, es decir z = 0.\n",
    "#Mientras que el valor de z sea menor que 3:\n",
    "#Si el valor de z es igual a 0:\n",
    "#Printead el valor de z\n",
    "# Almancenad el valor en una lista auxiliar\n",
    "# Sumadle 1 al valor de z\n",
    "# Si el valor de z es igual a 1:\n",
    "# Printead el valor de z\n",
    "# Almancenad el valor en una lista auxiliar\n",
    "# En caso de que no se cumplan las condiciones anteriores:\n",
    "# Printead el valor de z\n",
    "# Sumadle 1 al valor de z\n",
    "# El objetivo de este ejercicio es añadir elementos a una lista utilizando el bucle while:\n",
    "# Cread una lista vacía\n",
    "# Cread una variable cuyo valor sea 0\n",
    "# Mientras que la longitud de la lista creada en el primer paso sea menor que 4:\n",
    "# Apendead el valor de la variable creada en el paso 2\n",
    "# Sumad 1 a la variable creada en el paso 2\n",
    "# Por último, printead los valores que hemos añadido en la lista vacía (ya no lo estaría)\n",
    "# El objetivo de este ejercicio es encontrar la suma de números en una lista usando el bucle while:\n",
    "# Cread una variable cuyo valor sea 0, llamadla \"i\"\n",
    "# Cread una lista que contenga los siguientes números: 23,45,12,10,25\n",
    "# Cread una variable cuyo valor sea 0, llamadla \"suma\"\n",
    "# Mientras que el valor de la variable \"i\" sea menor que la longitud de la lista:\n",
    "# Sumad elemento a elemento los valores de la lista. Es decir, el primero con el segundo; el resultado de la suma anterior más el tercer número, etc\n",
    "# Sumad 1 a la variable \"i\" por cada iteración por el bucle while\n",
    "# El resultado esperado es 115.\n",
    "# Escribid un programa para una empresa que tiene salas de juegos para todas las edades y quiere calcular de forma automática el precio que debe cobrar a sus clientes por entrar. El programa debe preguntar al usuario la edad del cliente y mostrar el precio de la entrada. Si el cliente es menor de 4 años puede entrar gratis, si tiene entre 4 y 18 años debe pagar 5€ y si es mayor de 18 años, 10€.\n",
    "# La pizzería Bella Napoli ofrece pizzas vegetarianas y no vegetarianas a sus clientes. Los ingredientes para cada tipo de pizza aparecen a continuación.\n",
    "# ingredientes vegetarianos: Pimiento y tofu.\n",
    "# Ingredientes no vegetarianos: Peperoni, Jamón y Salmón.\n",
    "# Escribid un programa que pregunte al usuario si quiere una pizza vegetariana o no, y en función de su respuesta le muestre un menú con los ingredientes disponibles para que elija. Solo se puede eligir un ingrediente además de la mozzarella y el tomate que están en todas la pizzas. Al final se debe mostrar por pantalla si la pizza elegida es vegetariana o no y todos los ingredientes que lleva.\n"
   ]
  },
  {
   "cell_type": "code",
   "execution_count": 4,
   "metadata": {},
   "outputs": [
    {
     "name": "stdout",
     "output_type": "stream",
     "text": [
      "tu nota es F\n"
     ]
    }
   ],
   "source": [
    "input1 = input(\"¿que has sacado en mates?, escrie tu nota de 0 a 100\")\n",
    "input1 = float(input1)\n",
    "if input1 < 25:\n",
    "    print(\"tu nota es F\")\n",
    "elif input1 >25 and input1 <41:\n",
    "    print(\"tu nota es E\")  \n",
    "elif input1 >45 and input1 <50:\n",
    "    print(\"tu nota es D\") \n",
    "elif input1 >50 and input1 <60:\n",
    "    print(\"tu nota es C\")  \n",
    "elif input1 >60 and input1 <80:\n",
    "    print(\"tu nota es B\")   \n",
    "elif input1 >80:\n",
    "    print(\"tu nota es A\")            \n"
   ]
  },
  {
   "cell_type": "code",
   "execution_count": 6,
   "metadata": {},
   "outputs": [],
   "source": [
    " #2.Cread tres inputs donde a cada uno de ellos le preguntéis su edad, el objetivo del ejercicio es determinar quien es el más viejo y el más joven"
   ]
  },
  {
   "cell_type": "code",
   "execution_count": 12,
   "metadata": {},
   "outputs": [
    {
     "ename": "NameError",
     "evalue": "name 'integer' is not defined",
     "output_type": "error",
     "traceback": [
      "\u001b[0;31m---------------------------------------------------------------------------\u001b[0m",
      "\u001b[0;31mNameError\u001b[0m                                 Traceback (most recent call last)",
      "\u001b[0;32m/tmp/ipykernel_51286/2691495805.py\u001b[0m in \u001b[0;36m<module>\u001b[0;34m\u001b[0m\n\u001b[1;32m      1\u001b[0m \u001b[0minput_edad\u001b[0m \u001b[0;34m=\u001b[0m \u001b[0;34m(\u001b[0m\u001b[0;34m\"¿cuantos años tienes\"\u001b[0m\u001b[0;34m)\u001b[0m\u001b[0;34m\u001b[0m\u001b[0;34m\u001b[0m\u001b[0m\n\u001b[0;32m----> 2\u001b[0;31m \u001b[0minput_edad\u001b[0m \u001b[0;34m=\u001b[0m \u001b[0minteger\u001b[0m\u001b[0;34m(\u001b[0m\u001b[0minput_edad\u001b[0m\u001b[0;34m)\u001b[0m\u001b[0;34m\u001b[0m\u001b[0;34m\u001b[0m\u001b[0m\n\u001b[0m\u001b[1;32m      3\u001b[0m \u001b[0;34m\u001b[0m\u001b[0m\n\u001b[1;32m      4\u001b[0m \u001b[0;32mif\u001b[0m \u001b[0minput_edad\u001b[0m \u001b[0;34m>\u001b[0m \u001b[0;36m0\u001b[0m \u001b[0;32mand\u001b[0m \u001b[0minput_edad\u001b[0m \u001b[0;34m<\u001b[0m\u001b[0;36m10\u001b[0m\u001b[0;34m:\u001b[0m\u001b[0;34m\u001b[0m\u001b[0;34m\u001b[0m\u001b[0m\n\u001b[1;32m      5\u001b[0m     \u001b[0mprint\u001b[0m\u001b[0;34m(\u001b[0m\u001b[0;34m\"eres un niño \"\u001b[0m\u001b[0;34m)\u001b[0m\u001b[0;34m\u001b[0m\u001b[0;34m\u001b[0m\u001b[0m\n",
      "\u001b[0;31mNameError\u001b[0m: name 'integer' is not defined"
     ]
    }
   ],
   "source": [
    "input_edad = (\"¿cuantos años tienes\")\n",
    "input_edad = integer(input_edad)\n",
    "\n",
    "if input_edad > 0 and input_edad <10:\n",
    "    print(\"eres un niño \")"
   ]
  }
 ],
 "metadata": {
  "kernelspec": {
   "display_name": "Python 3.9.7 ('base')",
   "language": "python",
   "name": "python3"
  },
  "language_info": {
   "codemirror_mode": {
    "name": "ipython",
    "version": 3
   },
   "file_extension": ".py",
   "mimetype": "text/x-python",
   "name": "python",
   "nbconvert_exporter": "python",
   "pygments_lexer": "ipython3",
   "version": "3.9.7"
  },
  "orig_nbformat": 4,
  "vscode": {
   "interpreter": {
    "hash": "0620710c65b0f5ccc651a2aa8870ae0eb4c70492424a8d7866846658189426a3"
   }
  }
 },
 "nbformat": 4,
 "nbformat_minor": 2
}
