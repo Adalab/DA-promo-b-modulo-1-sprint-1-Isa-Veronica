{
 "cells": [
  {
   "cell_type": "code",
   "execution_count": 2,
   "metadata": {},
   "outputs": [
    {
     "name": "stdout",
     "output_type": "stream",
     "text": [
      "El año 1 has ganado 87 €\n",
      "En total tienes 2654 €\n",
      "El año 2 has ganado 90 €\n",
      "En total tienes 2745 €\n",
      "El año 3 has ganado 93 €\n",
      "En total tienes 2838 €\n",
      "El año 4 has ganado 96 €\n",
      "En total tienes 2934 €\n",
      "Cuando terminen los 4 años de tu inversión tendrás: 3034, habrás ganado: 467 €\n"
     ]
    }
   ],
   "source": [
    "#1.Escribid un programa que pregunte al usuario una cantidad a invertir, el interés anual y el número \n",
    "# de años, y muestre por pantalla el capital obtenido en la inversión cada año que dura la inversión.\n",
    "\n",
    "inver_usuario=float(input(\"Escribe cuánto quieres invertir\"))\n",
    "int_anual=float(input(\"¿Cuál quieres que sea el interés anual, ¡nosotras hacemos el cálculo por ti! Tú solo escribe el número :)\"))\n",
    "num_años=int(input(\"¿Cuántos años quieres invertir?\"))\n",
    "\n",
    "gan_año= inver_usuario*int_anual/100\n",
    "dinero_total=float(inver_usuario + gan_año)\n",
    "\n",
    "for año in range(1,num_años+1):\n",
    "    print(f\"El año {año} has ganado {round(gan_año)} €\")\n",
    "    print(f\"En total tienes {round(dinero_total)} €\")\n",
    "    gan_año= dinero_total*int_anual/100\n",
    "    dinero_total=(dinero_total + gan_año)\n",
    "    \n",
    "diferencia= dinero_total - inver_usuario\n",
    "print(f\"Cuando terminen los {num_años} años de tu inversión tendrás: {round(dinero_total)}, habrás ganado: {round(diferencia)} €\")\n"
   ]
  },
  {
   "cell_type": "code",
   "execution_count": null,
   "metadata": {},
   "outputs": [],
   "source": [
    "#2.Escribid un programa en el que se pregunte al usuario por una frase y una letra, y muestre por \n",
    "# pantalla el número de veces que aparece la letra en la frase.\n",
    "\n",
    "frase= input(\"Escribe una frase aleatoria (todo en minúsculas)\")\n",
    "letra=input(\"Escribe una letra\")\n",
    "\n",
    "for leter in frase:\n",
    "    numero_letras= frase.count(letra)   #con este método queremos contar los elementos del input dentro de la frase (input)\n",
    "    print(f\"Hay: {numero_letras}  - {letra.upper()}s -  en tu frase\")\n",
    "    frase.split()\n",
    "    print(\"Vamos a ver cómo queda tu frase sin esas letras:\\n\", frase.replace(letra,\"-\"))\n",
    "    break\n"
   ]
  },
  {
   "cell_type": "code",
   "execution_count": null,
   "metadata": {},
   "outputs": [],
   "source": [
    "#3.Escribid un programa que nos devuelva la tabla de multiplicar de un número especificado en una función\n",
    "# input\n",
    "\n",
    "tabla_usuaria= int(input(\"¿De qué número quieres conocer su tabla de multiplicar?\"))\n",
    "\n",
    "\n",
    "for num in range(1,11):    #añadimos range para poder multiplicar hasta 10 con el rango que indicamos.\n",
    "    multi= num * tabla_usuaria  #la variable multi, multiplica cada número del rango por el número de la usuaria.\n",
    "    print(f\"{tabla_usuaria} x {num} =\",multi)"
   ]
  },
  {
   "cell_type": "code",
   "execution_count": null,
   "metadata": {},
   "outputs": [],
   "source": [
    "#4.Dada la siguinte lista de números:\n",
    "numbers = [12, 75, 150, 180, 145, 525, 50]\n",
    "#Escribid un programa que muestre sólo los números de una lista que cumplan las siguientes condiciones\n",
    "    #El número debe ser divisible entre cinco\n",
    "    #Si el número es mayor que 150, se salta y se pasa al siguiente número\n",
    "    #Si el número es mayor que 500, entonces detenga el bucle\n",
    "\n",
    "lista_condiciones=[]\n",
    "\n",
    "for num in numbers:\n",
    "    if num > 500:\n",
    "        break\n",
    "    elif num > 150:\n",
    "        pass\n",
    "    elif num % 5 == 0:\n",
    "        lista_condiciones.append(num)\n",
    "        print(lista_condiciones)\n"
   ]
  },
  {
   "cell_type": "code",
   "execution_count": null,
   "metadata": {},
   "outputs": [],
   "source": [
    "#5.Dada la siguiente lista:\n",
    "list1 = [10, 20, 30, 40, 50]\n",
    "    #Imprimir la lista en orden inverso\n",
    "\n",
    "list1.sort(reverse=True)\n",
    "print(list1)"
   ]
  },
  {
   "cell_type": "code",
   "execution_count": null,
   "metadata": {},
   "outputs": [],
   "source": [
    "#6.Dado el siguiente código\n",
    "    #for i in ['1','2','3']:\n",
    "        #print (i**2)\n",
    "#Usando un try ... except, cread un programa para evitar que nos de un error el código anterior. \n",
    "# En su lugar, si se encuentra un error, deberéis poner el código necesario para que no nos devuelva error.\n",
    "\n",
    "try:\n",
    "    for i in ['1','2','3']:\n",
    "        print (i**2)\n",
    "\n",
    "except:\n",
    "\n",
    "    print(TypeError)\n",
    "    lista_num=[1,2,3]\n",
    "    for i in lista_num:\n",
    "        print(i**2)\n"
   ]
  }
 ],
 "metadata": {
  "kernelspec": {
   "display_name": "Python 3.9.7 ('base')",
   "language": "python",
   "name": "python3"
  },
  "language_info": {
   "codemirror_mode": {
    "name": "ipython",
    "version": 3
   },
   "file_extension": ".py",
   "mimetype": "text/x-python",
   "name": "python",
   "nbconvert_exporter": "python",
   "pygments_lexer": "ipython3",
   "version": "3.9.7"
  },
  "orig_nbformat": 4,
  "vscode": {
   "interpreter": {
    "hash": "7ad202eda4b463b15866ae6aadf94c3d2752d74520fedda13d68ef6e8aba5314"
   }
  }
 },
 "nbformat": 4,
 "nbformat_minor": 2
}
