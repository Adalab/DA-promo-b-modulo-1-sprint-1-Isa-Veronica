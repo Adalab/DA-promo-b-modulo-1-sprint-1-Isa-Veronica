{
 "cells": [
  {
   "cell_type": "code",
   "execution_count": 21,
   "metadata": {},
   "outputs": [
    {
     "name": "stdout",
     "output_type": "stream",
     "text": [
      "Tu rentabilidad el año 2 es:  ['1']\n",
      "Tu rentabilidad el año 2 es:  ['1', ' ']\n",
      "Tu rentabilidad el año 2 es:  ['1', ' ', '2']\n",
      "Tu rentabilidad el año 2 es:  ['1', ' ', '2', ' ']\n",
      "Tu rentabilidad el año 2 es:  ['1', ' ', '2', ' ', '3']\n"
     ]
    }
   ],
   "source": [
    "#1.Escribid un programa que pregunte al usuario una cantidad a invertir, el interés anual y el número \n",
    "# de años, y muestre por pantalla el capital obtenido en la inversión cada año que dura la inversión.\n",
    "\n",
    "inversion_usuario=int(input(\"Escribe cuánto quieres invertir\"))\n",
    "interes_anual=float(input(\"¿Cuál quieres que sea el interés anual\"))\n",
    "numero_años=list(input(\"¿Cuántos años quieres invertir? Escribe los años en una lista, ejemplo: 123\"))\n",
    "capital_ganacias = inversion_usuario * interes_anual / len(numero_años)\n",
    "rentabilidad=[]\n",
    "numero_años = list(numero_años)\n",
    "\n",
    "for año in numero_años:\n",
    "    capital_ganacias\n",
    "    rentabilidad.append(año)\n",
    "    print(\"Tu rentabilidad el año\", len(numero_años[0])+1, \"es: \" , rentabilidad)\n",
    "\n",
    "\n",
    "#REVISIÓN\n"
   ]
  },
  {
   "cell_type": "code",
   "execution_count": null,
   "metadata": {},
   "outputs": [],
   "source": [
    "#2.Escribid un programa en el que se pregunte al usuario por una frase y una letra, y muestre por \n",
    "# pantalla el número de veces que aparece la letra en la frase.\n",
    "\n",
    "frase= input(\"Escribe una frase aleatoria\")\n",
    "letra=input(\"Escribe una letra\")\n",
    "\n",
    "for abc in frase:\n",
    "    numero_letras= \n",
    "    print(\"Hay: en tu frase\")\n"
   ]
  },
  {
   "cell_type": "code",
   "execution_count": null,
   "metadata": {},
   "outputs": [],
   "source": [
    "#3.Escribid un programa que nos devuelva la tabla de multiplicar de un número especificado en una función\n",
    "# input\n"
   ]
  },
  {
   "cell_type": "code",
   "execution_count": null,
   "metadata": {},
   "outputs": [],
   "source": [
    "#4.Dada la siguinte lista de números:\n",
    "    #numbers = [12, 75, 150, 180, 145, 525, 50]\n",
    "#Escribid un programa que muestre sólo los números de una lista que cumplan las siguientes condiciones\n",
    "    #El número debe ser divisible entre cinco\n",
    "    #Si el número es mayor que 150, se salta y se pasa al siguiente número\n",
    "    #Si el número es mayor que 500, entonces detenga el bucle"
   ]
  },
  {
   "cell_type": "code",
   "execution_count": null,
   "metadata": {},
   "outputs": [],
   "source": [
    "#5.Dada la siguiente lista:\n",
    "    #list1 = [10, 20, 30, 40, 50]\n",
    "    #Imprimir la lista en orden inverso"
   ]
  },
  {
   "cell_type": "code",
   "execution_count": null,
   "metadata": {},
   "outputs": [],
   "source": [
    "#6.Dado el siguiente código\n",
    "    #for i in ['1','2','3']:\n",
    "        #print (i**2)\n",
    "#Usando un try ... except, cread un programa para evitar que nos de un error el código anterior. \n",
    "# En su lugar, si se encuentra un error, deberéis poner el código necesario para que no nos devuelva error.\n"
   ]
  }
 ],
 "metadata": {
  "kernelspec": {
   "display_name": "Python 3.9.7 ('base')",
   "language": "python",
   "name": "python3"
  },
  "language_info": {
   "codemirror_mode": {
    "name": "ipython",
    "version": 3
   },
   "file_extension": ".py",
   "mimetype": "text/x-python",
   "name": "python",
   "nbconvert_exporter": "python",
   "pygments_lexer": "ipython3",
   "version": "3.9.7"
  },
  "orig_nbformat": 4,
  "vscode": {
   "interpreter": {
    "hash": "7ad202eda4b463b15866ae6aadf94c3d2752d74520fedda13d68ef6e8aba5314"
   }
  }
 },
 "nbformat": 4,
 "nbformat_minor": 2
}
