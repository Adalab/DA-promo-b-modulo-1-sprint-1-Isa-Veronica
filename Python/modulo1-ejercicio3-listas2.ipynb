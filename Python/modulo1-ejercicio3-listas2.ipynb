{
 "cells": [
  {
   "cell_type": "code",
   "execution_count": 1,
   "metadata": {},
   "outputs": [],
   "source": [
    "### Pasos a seguir para alcanzar los objetivos del pair programming de hoy:\n",
    "\n",
    "# Además de la variable que ya tenéis definida en la plantilla de index = -1 tendréis que crear tres variables numéricas más:\n",
    "# Una indicando el límite inferior, la tenéis en el pair de ayer.\n",
    "# Una indicando el límite superior, la tenéis en el pair de ayer.\n",
    "# Una última índicando la longitud que vamos a querer de la lista, puede ser cualquier número entero.\n",
    "# Definir un string con un mensaje de bienvenida, lo podremos reutilizar de pairs anteriores.\n",
    "# Definir una variable (llamadla intento) usando un input donde le preguntemos al usuario por un número. Podemos reutilizar este código de pairs anteriores\n",
    "# Introducir la línea de código que tenéis en la plantilla de num_list\n",
    "# Iniciamos el juego con:\n",
    "    #print con el mensaje de bienvenida.\n",
    "    # print con las propiedades de la lista de números, la lista num_list. Cual es la longitud, el valor máximo y el mínimo. Lo podemos reciclar del pair de ayer.\n",
    "    # print con el número que introdujo el usuario en el input, es decir, la variable input.\n",
    "    # print con un mensaje (el que vosotras queráis), por ejemplo: ¿Adivinaste el número?\n",
    "    # print que devuelva un booleano donde sepamos si el input (intento) del usaurio estaba en la lista num_list. Lo tenéis en el pair de ayer.\n",
    "\n",
    "#Almacenad en una variable (llamadla \"indice\") el índice del número que pasó en el usuario. El índice de la variable intento\n",
    "# Almacenad en una variable (llamadla \"indice_humano\") que nos diga la posición del numero almacenado en intento. Es decir, si es el elemento 0 de Python, corresponderá a indice_humano = 1.\n",
    "# Código que tenéis en la plantilla donde tenéis el if\n",
    "# Un print con mensaje de finalización del juego."
   ]
  },
  {
   "cell_type": "code",
   "execution_count": 2,
   "metadata": {},
   "outputs": [],
   "source": [
    "import random\n",
    "\n",
    "# Variables numéricas\n",
    "index = -1\n",
    "lim_inferior = 2\n",
    "lim_superior = 25\n",
    "longitud_lista = 15"
   ]
  },
  {
   "cell_type": "code",
   "execution_count": 3,
   "metadata": {},
   "outputs": [],
   "source": [
    "# Cadenas fijas de texto\n",
    "bienvenida = \"-------> ¡Comenzamos el juego!, ¿estás preparada? <-------\""
   ]
  },
  {
   "cell_type": "code",
   "execution_count": 4,
   "metadata": {},
   "outputs": [],
   "source": [
    "# User input\n",
    "intento = input(\"escribe un número del 2 al 25\")\n",
    "intento=int(intento)"
   ]
  },
  {
   "cell_type": "code",
   "execution_count": 5,
   "metadata": {},
   "outputs": [],
   "source": [
    "# Cantidades calculadas\n",
    "num_list = random.sample(range(lim_inferior, lim_superior), longitud_lista)\n",
    "propiedades_lista = \"Tu lista contiene \" , len(num_list) , \" elementos. El valor máximo de tu lista es \" , max(num_list) , \"el valor mínimo de tu lista es\" , min(num_list)"
   ]
  },
  {
   "cell_type": "code",
   "execution_count": 6,
   "metadata": {},
   "outputs": [
    {
     "name": "stdout",
     "output_type": "stream",
     "text": [
      "-------> ¡Comenzamos el juego!, ¿estás preparada? <-------\n",
      "('Tu lista contiene ', 15, ' elementos. El valor máximo de tu lista es ', 24, 'el valor mínimo de tu lista es', 2)\n",
      "Tu número es el 6\n",
      "¿Has adivinado el número?\n",
      "El número secreto está dentro de la lista que has insertado:  False\n"
     ]
    }
   ],
   "source": [
    "# Inicio del juego\n",
    "print(bienvenida)"
   ]
  },
  {
   "cell_type": "code",
   "execution_count": 7,
   "metadata": {},
   "outputs": [],
   "source": [
    "# Propiedades de la lista aleatoria\n",
    "print(propiedades_lista) \n",
    "print(\"Tu número es el\" , intento)"
   ]
  },
  {
   "cell_type": "code",
   "execution_count": 8,
   "metadata": {},
   "outputs": [],
   "source": [
    "# Han adivinado un elemento?\n",
    "print(\"¿Has adivinado el número?\")\n",
    "print(\"El número secreto está dentro de la lista secreta: \" , intento in num_list)"
   ]
  },
  {
   "cell_type": "code",
   "execution_count": 9,
   "metadata": {},
   "outputs": [
    {
     "name": "stdout",
     "output_type": "stream",
     "text": [
      "Por muy poco...¡inténtalo de nuevo!\n"
     ]
    }
   ],
   "source": [
    "# Si adivinaron uno, dónde estaba?\n",
    "\n",
    "try: \n",
    "    indice = num_list.index(intento)\n",
    "    indice_humano = indice + 1\n",
    "\n",
    "except: \n",
    "    print(\"Por muy poco...¡inténtalo de nuevo!\")\n",
    "\n",
    "# Si adivinaron uno, dónde estaba?\n",
    "\n",
    "if num_list.count(intento): index = indice\n",
    "if index >= 0: print(\"Estaba en el sitio\", indice_humano , \", índice\", str(index),\".\")"
   ]
  },
  {
   "cell_type": "code",
   "execution_count": 10,
   "metadata": {},
   "outputs": [
    {
     "name": "stdout",
     "output_type": "stream",
     "text": [
      "------->¡Juego terminado!<-------\n"
     ]
    }
   ],
   "source": [
    "# Fin del juego\n",
    "print(\"------->¡Juego terminado!<-------\")"
   ]
  },
  {
   "cell_type": "markdown",
   "metadata": {},
   "source": []
  }
 ],
 "metadata": {
  "kernelspec": {
   "display_name": "Python 3.9.7 ('base')",
   "language": "python",
   "name": "python3"
  },
  "language_info": {
   "codemirror_mode": {
    "name": "ipython",
    "version": 3
   },
   "file_extension": ".py",
   "mimetype": "text/x-python",
   "name": "python",
   "nbconvert_exporter": "python",
   "pygments_lexer": "ipython3",
   "version": "3.9.7"
  },
  "orig_nbformat": 4,
  "vscode": {
   "interpreter": {
    "hash": "7ad202eda4b463b15866ae6aadf94c3d2752d74520fedda13d68ef6e8aba5314"
   }
  }
 },
 "nbformat": 4,
 "nbformat_minor": 2
}
