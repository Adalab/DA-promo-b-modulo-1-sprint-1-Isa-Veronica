{
 "cells": [
  {
   "cell_type": "code",
   "execution_count": 4,
   "metadata": {},
   "outputs": [
    {
     "name": "stdout",
     "output_type": "stream",
     "text": [
      "tu nota es F\n"
     ]
    }
   ],
   "source": [
    "#1. En la escuela donde trabajamos tienen el siguiente sistema de notas:\n",
    "        # Below 25 - F\n",
    "        #25 to 45 - E\n",
    "        #45 to 50 - D\n",
    "        #50 to 60 - C\n",
    "        #60 to 80 - B\n",
    "        # bove 80 - A\n",
    "# El objetivo de este ejercicio es que le preguntéis al usuario por una nota (numérica) \n",
    "# y nosotros le devolvamos la nota con la letra que le corresponde.\n",
    "\n",
    "input1 = input(\"¿que has sacado en mates?, escrie tu nota de 0 a 100\")\n",
    "input1 = float(input1)\n",
    "if input1 < 25:\n",
    "    print(\"tu nota es F\")\n",
    "elif input1 >25 and input1 <41:\n",
    "    print(\"tu nota es E\")  \n",
    "elif input1 >45 and input1 <50:\n",
    "    print(\"tu nota es D\") \n",
    "elif input1 >50 and input1 <60:\n",
    "    print(\"tu nota es C\")  \n",
    "elif input1 >60 and input1 <80:\n",
    "    print(\"tu nota es B\")   \n",
    "elif input1 >80:\n",
    "    print(\"tu nota es A\")            "
   ]
  },
  {
   "cell_type": "code",
   "execution_count": 2,
   "metadata": {},
   "outputs": [
    {
     "name": "stdout",
     "output_type": "stream",
     "text": [
      "eres el más joven\n"
     ]
    }
   ],
   "source": [
    " #2.Cread tres inputs donde a cada uno de ellos le preguntéis su edad, el objetivo del ejercicio \n",
    " # es determinar quien es el más viejo y el más joven\n",
    "\n",
    "input_edad = input(\"¿cuantos años tienes?, elige de 10 a 50 años?\")\n",
    "input_edad = int(input_edad)\n",
    "\n",
    "if input_edad > 10 and input_edad < 20:\n",
    "    persona1 = print(\"eres el más joven\")\n",
    "elif input_edad > 20 and input_edad < 30:  \n",
    "    persona2 = print(\"tienes la mejor edad\")  \n",
    "elif input_edad > 30 and input_edad < 50:  \n",
    "    persona3 = print(\"eres el más viejuno\")      \n",
    "\n",
    "   "
   ]
  },
  {
   "cell_type": "code",
   "execution_count": 14,
   "metadata": {},
   "outputs": [
    {
     "name": "stdout",
     "output_type": "stream",
     "text": [
      "jugador1 eres el más joven\n",
      "jugador 3 eres el más viejo\n"
     ]
    }
   ],
   "source": [
    "input_edad1= int(input(\"cuantos años tienes\"))\n",
    "input_edad2= int(input(\"cuantos años tienes\"))\n",
    "input_edad3= int(input(\"cuantos años tienes\"))\n",
    "\n",
    "if input_edad1 < input_edad2 < input_edad3:     \n",
    "    print (\"jugador1 eres el más joven\")\n",
    "elif input_edad2 < input_edad1 < input_edad3: \n",
    "    print (\"jugador2 eres el más joven\")\n",
    "elif input_edad3 < input_edad2 < input_edad1: \n",
    "    print (\"jugador 3 eres el más joven\")\n",
    "    \n",
    "if input_edad1 > input_edad2 > input_edad3:     \n",
    "    print (\"jugador1 eres el más viejo\")\n",
    "elif input_edad2 > input_edad1 > input_edad3: \n",
    "    print (\"jugador2 eres el más viejo\")\n",
    "elif input_edad3 > input_edad2 > input_edad1: \n",
    "    print (\"jugador 3 eres el más viejo\")   \n",
    "\n"
   ]
  },
  {
   "cell_type": "code",
   "execution_count": 29,
   "metadata": {},
   "outputs": [
    {
     "name": "stdout",
     "output_type": "stream",
     "text": [
      "Buenos días VERO\n"
     ]
    }
   ],
   "source": [
    "# 3. Escribid un programa que pregunte el nombre del usuario a través de la función input(). \n",
    "# Si el nombre es \"Bond\" haced que imprima \"Bienvenido a bordo de 007\". \n",
    "# En caso contrario haced que imprima \"Buenos días NOMBRE\". (Reemplace NOMBRE por el nombre del usuario).\n",
    "\n",
    "input_nombre=input(\"¿Cuál es tu nombre? No será Bond, por casualidad...\")\n",
    "\n",
    "if input_nombre == \"Bond\" or input_nombre == \"bond\":\n",
    "    print(\"Bienvenido a bordo, agente 007\")\n",
    "else:\n",
    "    input_nombre = input_nombre.upper()\n",
    "    print(\"Buenos días \" + input_nombre)"
   ]
  },
  {
   "cell_type": "code",
   "execution_count": 27,
   "metadata": {},
   "outputs": [
    {
     "name": "stdout",
     "output_type": "stream",
     "text": [
      "[69593, 49894, 41396, 36388, 24987]\n",
      "[dict_keys(['Taiwan', 'Japan', 'Russia', 'Canada', 'Bulgaria'])]\n"
     ]
    }
   ],
   "source": [
    "#4.\n",
    "#arbol es un diccionario que muestra el número de árboles de países por kilómetro cuadrado \n",
    "# para países aleatorios con un número considerable de población. \n",
    "# Crea una lista llamada \"masarboles\" que contenga el nombre de los países con más de 20.000 árboles por kilómetro cuadrado.\n",
    "tree = {\"Taiwan\": 69593,\n",
    "        \"Japan\": 49894, \n",
    "        \"Russia\": 41396, \n",
    "        \"Canada\": 36388, \n",
    "        \"Bulgaria\": 24987}\n",
    "        \n",
    "masarboles=[] \n",
    "arboles = list(tree.values())\n",
    "print(arboles) \n",
    "if arboles[0] > 20000:\n",
    "    masarboles.append(tree.keys())\n",
    "    arboles [0]+1\n",
    "    print(masarboles)\n",
    "    \n",
    "      "
   ]
  },
  {
   "cell_type": "code",
   "execution_count": 27,
   "metadata": {},
   "outputs": [
    {
     "name": "stdout",
     "output_type": "stream",
     "text": [
      "perteneces al grupo A\n"
     ]
    }
   ],
   "source": [
    "#5. Los alumnos de un curso se han dividido en dos grupos A y B de acuerdo al sexo y el nombre.\n",
    "# El grupo A esta formado por las mujeres con un nombre anterior a la M y los hombres \n",
    "# con un nombre posterior a la N y el grupo B por el resto. \n",
    "# Escribid un programa que pregunte al usuario su nombre y sexo, \n",
    "# y muestre por pantalla el grupo que le corresponde.\n",
    "\n",
    "nombre = input(\"Cuál es tu nombre\")\n",
    "sexo = input(\"Cuál es tu sexo\")\n",
    "\n",
    "if \"A\" or \"B\" or \"C\" or \"D\" or \"E\" or \"F\" or \"G\" or \"H\" or \"I\" or \"J\" or \"K\" or \"L\" in nombre:\n",
    "    if sexo == \"mujer\" or sexo == \"Mujer\":\n",
    "        print(\"perteneces al grupo A\")\n",
    "    else:\n",
    "        print(\"Perteneces al grupo B\")\n",
    "\n",
    "if sexo == \"hombre\" or sexo == \"Hombre\":\n",
    "    if \"Ñ\" or \"O\" or \"P\" or \"Q\" or \"R\" or \"S\" or \"T\" or \"U\" or \"V\" or \"W\" or \"X\" or \"Y\" or \"Z\" in nombre:\n",
    "        print(\"perteneces al grupo A\")\n",
    "    else:\n",
    "        print(\"Perteneces al grupo B\")"
   ]
  },
  {
   "cell_type": "code",
   "execution_count": 28,
   "metadata": {},
   "outputs": [
    {
     "name": "stdout",
     "output_type": "stream",
     "text": [
      "[0]\n",
      "[0, 1]\n",
      "[0, 1, 2]\n",
      "[0, 1, 2, 3]\n"
     ]
    }
   ],
   "source": [
    "# 7. El objetivo de este ejercicio es añadir elementos a una lista utilizando el bucle while:\n",
    "# Cread una lista vacía\n",
    "# Cread una variable cuyo valor sea 0\n",
    "# Mientras que la longitud de la lista creada en el primer paso sea menor que 4:\n",
    "# Apendead el valor de la variable creada en el paso 2\n",
    "# Sumad 1 a la variable creada en el paso 2\n",
    "# Por último, printead los valores que hemos añadido en la lista vacía (ya no lo estaría).\n",
    "\n",
    "lista_vacia = []\n",
    "variable0 = 0\n",
    "\n",
    "while len(lista_vacia) <4:\n",
    "    lista_vacia.append(variable0)\n",
    "    variable0 += 1\n",
    "    print(lista_vacia)"
   ]
  },
  {
   "cell_type": "code",
   "execution_count": 31,
   "metadata": {},
   "outputs": [
    {
     "name": "stdout",
     "output_type": "stream",
     "text": [
      "Tu entrada cuesta 10€\n"
     ]
    }
   ],
   "source": [
    "# 9. Escribid un programa para una empresa que tiene salas de juegos para todas las edades \n",
    "# y quiere calcular de forma automática el precio que debe cobrar a sus clientes por entrar. \n",
    "# El programa debe preguntar al usuario la edad del cliente y mostrar el precio de la entrada. \n",
    "# Si el cliente es menor de 4 años puede entrar gratis, si tiene entre 4 y 18 años debe pagar \n",
    "# 5€ y si es mayor de 18 años, 10€.\n",
    "\n",
    "edad_cliente=float(input(\"¿Cuál es tu edad?\"))\n",
    "\n",
    "if edad_cliente <4:\n",
    "    print(\"¡Tu entrada es gratis!\")\n",
    "elif edad_cliente >4 and edad_cliente <18:\n",
    "    print(\"Tu entrada cuesta 5€\")\n",
    "elif edad_cliente > 18:\n",
    "    print(\"Tu entrada cuesta 10€\")"
   ]
  },
  {
   "cell_type": "code",
   "execution_count": 36,
   "metadata": {},
   "outputs": [
    {
     "name": "stdout",
     "output_type": "stream",
     "text": [
      "Ingredientes vegetarianos: Pimiento y tofu.\n",
      "Tu pizza es vegetariana:  True \n",
      "Los ingredientes de tu pizza: Tomate, mozzarella y pimiento. Enjoy!\n"
     ]
    }
   ],
   "source": [
    "#10. La pizzería Bella Napoli ofrece pizzas vegetarianas y no vegetarianas a sus clientes. \n",
    "# Los ingredientes para cada tipo de pizza aparecen a continuación.\n",
    "    # Ingredientes vegetarianos: Pimiento y tofu.\n",
    "    # Ingredientes no vegetarianos: Peperoni, Jamón y Salmón.\n",
    "#Escribid un programa que pregunte al usuario si quiere una pizza vegetariana o no, \n",
    "# y en función de su respuesta le muestre un menú con los ingredientes disponibles \n",
    "# para que elija. Solo se puede eligir un ingrediente además de la mozzarella y el tomate \n",
    "# que están en todas la pizzas. Al final se debe mostrar por pantalla si la pizza elegida \n",
    "# es vegetariana o no y todos los ingredientes que lleva.\n",
    "\n",
    "vegetariana= \"Ingredientes vegetarianos: Pimiento y tofu.\"\n",
    "no_vegetariana= \"Ingredientes no vegetarianos: Peperoni, Jamón y Salmón.\"\n",
    "pedido= input(\"¿Quieres una pizza vegetariana o no vegetariana?\")\n",
    "\n",
    "\n",
    "if pedido == \"vegetariana\" or pedido == \"Vegetariana\":\n",
    "    print(vegetariana)\n",
    "    input2= input(\"Elige uno de estos ingredientes.\" + vegetariana)\n",
    "    if \"pimiento\" or \"Pimiento\" in input2:\n",
    "        print(\"Tu pizza es vegetariana: \" , True , \"\\nLos ingredientes de tu pizza: Tomate, mozzarella y pimiento. Enjoy!\")\n",
    "    elif \"Tofu\" or \"tofu\" in input2:\n",
    "        print(\"Tu pizza es vegetariana: \" , True , \"\\nLos ingredientes de tu pizza: Tomate, mozzarella y tofu. Enjoy!\")\n",
    "elif pedido == \"no vegetariana\" or \"No vegetariana\":\n",
    "    print(no_vegetariana)\n",
    "    input3=input(\"Elige uno de estos ingredientes.\" + no_vegetariana)\n",
    "    if \"peperoni\" or \"Peperoni\" in input3:\n",
    "        print(\"Tu pizza es no vegetariana: \" , True , \"\\nLos ingredientes de tu pizza: Tomate, mozzarella y peperoni. Enjoy!\")\n",
    "    elif \"Jamón\" or \"jamón\" in input3:\n",
    "        print(\"Tu pizza es no vegetariana: \" , True , \"\\nLos ingredientes de tu pizza: Tomate, mozzarella y jamón. Enjoy!\")\n",
    "    elif \"Salmón\" or \"salmón\" in input3:\n",
    "        print(\"Tu pizza es no vegetariana: \" , True , \"\\nLos ingredientes de tu pizza: Tomate, mozzarella y salmón. Enjoy!\")\n"
   ]
  },
  {
   "cell_type": "code",
   "execution_count": null,
   "metadata": {},
   "outputs": [],
   "source": []
  }
 ],
 "metadata": {
  "kernelspec": {
   "display_name": "Python 3.9.7 ('base')",
   "language": "python",
   "name": "python3"
  },
  "language_info": {
   "codemirror_mode": {
    "name": "ipython",
    "version": 3
   },
   "file_extension": ".py",
   "mimetype": "text/x-python",
   "name": "python",
   "nbconvert_exporter": "python",
   "pygments_lexer": "ipython3",
   "version": "3.9.7"
  },
  "orig_nbformat": 4,
  "vscode": {
   "interpreter": {
    "hash": "0620710c65b0f5ccc651a2aa8870ae0eb4c70492424a8d7866846658189426a3"
   }
  }
 },
 "nbformat": 4,
 "nbformat_minor": 2
}
