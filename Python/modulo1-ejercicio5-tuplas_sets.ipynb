{
 "cells": [
  {
   "cell_type": "code",
   "execution_count": 1,
   "metadata": {},
   "outputs": [],
   "source": [
    "#Variables predefinidas:\n",
    "    # Un mensaje de bienvenida al juego\n",
    "    # Un mensaje de finalización del juego\n",
    "# Definid la lista de listas que forman el tablero. Recordad que nuestro tablero base esta compuesto por -.\n",
    "# Printead el mensaje de bienvenida\n",
    "# Printemos el tablero para que sea vea como vemos en el output que os indicamos abajo.\n",
    "# Escribid el input de la usuaria. Recordemos que este input deberá ser como:\n",
    "    # `x posicionfilas, posicioncolumnas`\n",
    "    # `x 2,1`\n",
    "    # `x 2,2`\n",
    "    # etc\n",
    "# Printead el input que paso la usuaria.\n",
    "# Separad el input de la usuaria usando el método split. Esto nos debe devolver dos elementos, uno que sea el símbolo (siguiente el ejemplo anterior, será la x), y el otro serán las coordenadas (en el ejemplo 2,1\n",
    "# Ejecutar la línea de código que tenéis en la plantilla donde creamos la variable coor\n",
    "#Actualizar el tablero. Usando las coordenadas pasadas por la usuaria, deberemos ubicar el símbolo (x) de dichas coordenadas en el tablero creado en los primeros pasos. Nota: deberéis hacer uso de los índices aprendidos en la clase de listas.\n",
    "# Imprimid el tablero de nuevo con las actualizaciones.\n",
    "# Realizad los mismos pasos para la segunda usuaria. Debe pasar, un símbolo (que sea diferente al de la primera usuaria, por ejemplo o) y unas coordenas.\n",
    "# Una vez que las dos usuarias hayan pasando un símbolo, deberéis sacar todos los elementos únicos que tengamos en el tablero. Es decir, deberíamos obtener -, x y o.\n",
    "# Eliminad los - de la lista creada en el apartado anterior.\n",
    "# Printead el resultado del paso anterior.\n",
    "# Printead el mensaje de finalización de juego."
   ]
  },
  {
   "cell_type": "code",
   "execution_count": null,
   "metadata": {},
   "outputs": [],
   "source": [
    "# Variables predefinidas\n",
    "\n",
    "# Definir el tablero con todo \"-\"\n",
    "\n",
    "# Inicio del juego\n",
    "\n",
    "# Imprimir tablero\n",
    "\n",
    "# Input de la usuaria\n",
    "\n",
    "\n",
    "coor = tuple(int(num)-1 for num in coor.split(\",\"))\n",
    "\n",
    "# Actualizar tablero\n",
    "\n",
    "# Imprimir tablero\n",
    "\n",
    "# Input del usuario\n",
    "\n",
    "\n",
    "coor = tuple(int(co)-1 for co in coor.split(\",\"))\n",
    "\n",
    "# Actualizar tablero\n",
    "\n",
    "# Imprimir tablero\n",
    "\n",
    "# Convertir los caracteres del board a una sola lista\n",
    "board_list = sum(board,[])\n",
    "\n",
    "# Sacar los elementos únicos que no sean \"-\"\n",
    "\n",
    "# Final del juego"
   ]
  }
 ],
 "metadata": {
  "kernelspec": {
   "display_name": "Python 3.9.7 ('base')",
   "language": "python",
   "name": "python3"
  },
  "language_info": {
   "codemirror_mode": {
    "name": "ipython",
    "version": 3
   },
   "file_extension": ".py",
   "mimetype": "text/x-python",
   "name": "python",
   "nbconvert_exporter": "python",
   "pygments_lexer": "ipython3",
   "version": "3.9.7"
  },
  "orig_nbformat": 4,
  "vscode": {
   "interpreter": {
    "hash": "7ad202eda4b463b15866ae6aadf94c3d2752d74520fedda13d68ef6e8aba5314"
   }
  }
 },
 "nbformat": 4,
 "nbformat_minor": 2
}
