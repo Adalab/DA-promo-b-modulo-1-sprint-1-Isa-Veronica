{
 "cells": [
  {
   "cell_type": "code",
   "execution_count": 2,
   "metadata": {},
   "outputs": [],
   "source": [
    "#Crear el diccionario que os hemos pasado en la plantilla que se llama words\n",
    "#  En las variables predefinidas tendréis que incluir:\n",
    "        # Un mensaje de bienvenida.\n",
    "        # Un mensaje para que el usuario eliga una key\n",
    "        # Un mensaje para que el usuario eliga un value de la key seleccionada previamente.\n",
    "        # Un mensaje donde le preguntemos al usuario si adivino la palabra.\n",
    "# Debéis definir una lista con las keys del diccionario.\n",
    "# Printead el mensaje de bienvenida\n",
    "# Printead usando el string definido previamante para que el usuario eliga una key.\n",
    "# Printead las opciones que tiene el usuario de keys para elegir. Pero lo vamos a poner un poco dificil. La usuaria no eligirá la key como tal, si no que tendrá que basarse en números. Es decir, el input deberá tener un aspecto como este:\n",
    "            # 1: Colors  2: Shapes  3: Fruits  4: Animals\n",
    "            # la usuaria deberá elegir un número\n",
    "# Cread una lista de values de la key elegida en el ejercicio anterior. Tendréis que jugar con los índices. Recordad que los índices empiezan siempre en 0 y el usuario elige un número empezando en 1!!\n",
    "# Incluid el código para la palabra secreta que tenéis en la plantilla, en concreto la variable word_secreta\n",
    "# Printead el mensaje para que la usuaria sleccione un value de la key seleccionada.\n",
    "# Printead el mensaje con el value seleccionado por la usuaria.\n",
    "# Printead el mensaje para saber si la usuaria adivino el mensaje\n",
    "# Printead si la opción elegida por la usuaria y la elegida por la máquina(word_secret) es igual o no. Nos deberá devolver True o False.\n",
    "# Printed el mensaje de finalización del juego."
   ]
  },
  {
   "cell_type": "code",
   "execution_count": 2,
   "metadata": {},
   "outputs": [
    {
     "name": "stdout",
     "output_type": "stream",
     "text": [
      "¡Hola, bienvenida al juego!\n",
      "Por favor, elige tu key\n"
     ]
    }
   ],
   "source": [
    "import random\n",
    "\n",
    "words = {'Colors':'red orange yellow green blue indigo violet white black brown'.split(),\n",
    "'Shapes':'square triangle rectangle circle ellipse rhombus trapezoid chevron pentagon hexagon septagon octagon'.split(),\n",
    "'Fruits':'apple orange lemon lime pear watermelon grape grapefruit cherry banana cantaloupe mango strawberry tomato'.split(),\n",
    "'Animals':'bat bear beaver cat cougar crab deer dog donkey duck eagle fish frog goat leech lion lizard monkey moose mouse otter owl panda python rabbit rat shark sheep skunk squid tiger turkey turtle weasel whale wolf wombat zebra'.split()}\n",
    "\n",
    "# Variables predefinidas\n",
    "bienvenida = \"¡Hola, bienvenida al juego!\"\n",
    "elige_tu_key = \"Por favor, elige tu key\"\n",
    "elige_tu_value = \"elige el valor de la clave que hayas elegido\"\n",
    "resultado = \"¿Has adicinado la palabra?\"\n",
    "\n",
    "keys = words.keys()\n",
    "\n",
    "\n",
    "# Inicio del juego\n",
    "print(bienvenida)\n",
    "\n",
    "\n",
    "# Elegir una categoria\n",
    "print(elige_tu_key)\n",
    "words_numeros = {1:\"colors\", 2: \"Shapes\", 3: \"Fruits\", 4: \"Animals\"}\n",
    "\n",
    "\n",
    "\n",
    "# El ordenador elige una palabra de la categoria\n",
    "        #word_list = \n",
    "        #word_secreta = random.randint(0, len(word_list)-1)\n",
    "\n",
    "# Adivinar una palabra\n",
    "\n",
    "# Era la palabra aleatoria?\n",
    "\n",
    "# Fin del juego"
   ]
  }
 ],
 "metadata": {
  "kernelspec": {
   "display_name": "Python 3.9.7 ('base')",
   "language": "python",
   "name": "python3"
  },
  "language_info": {
   "codemirror_mode": {
    "name": "ipython",
    "version": 3
   },
   "file_extension": ".py",
   "mimetype": "text/x-python",
   "name": "python",
   "nbconvert_exporter": "python",
   "pygments_lexer": "ipython3",
   "version": "3.9.7"
  },
  "orig_nbformat": 4,
  "vscode": {
   "interpreter": {
    "hash": "7ad202eda4b463b15866ae6aadf94c3d2752d74520fedda13d68ef6e8aba5314"
   }
  }
 },
 "nbformat": 4,
 "nbformat_minor": 2
}
