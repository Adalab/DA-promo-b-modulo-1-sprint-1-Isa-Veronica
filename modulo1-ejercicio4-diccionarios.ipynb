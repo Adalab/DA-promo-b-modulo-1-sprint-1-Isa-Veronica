{
 "cells": [
  {
   "cell_type": "code",
   "execution_count": null,
   "metadata": {},
   "outputs": [],
   "source": [
    "#Crear el diccionario que os hemos pasado en la plantilla que se llama words\n",
    "#  En las variables predefinidas tendréis que incluir:\n",
    "        # Un mensaje de bienvenida.\n",
    "        # Un mensaje para que el usuario eliga una key\n",
    "        # Un mensaje para que el usuario eliga un value de la key seleccionada previamente.\n",
    "        # Un mensaje donde le preguntemos al usuario si adivino la palabra.\n",
    "# Debéis definir una lista con las keys del diccionario.\n",
    "# Printead el mensaje de bienvenida\n",
    "# Printead usando el string definido previamante para que el usuario eliga una key.\n",
    "# Printead las opciones que tiene el usuario de keys para elegir. Pero lo vamos a poner un poco dificil. La usuaria no eligirá la key como tal, si no que tendrá que basarse en números. Es decir, el input deberá tener un aspecto como este:\n",
    "            # 1: Colors  2: Shapes  3: Fruits  4: Animals\n",
    "            # la usuaria deberá elegir un número\n",
    "# Cread una lista de values de la key elegida en el ejercicio anterior. Tendréis que jugar con los índices. Recordad que los índices empiezan siempre en 0 y el usuario elige un número empezando en 1!!\n",
    "# Incluid el código para la palabra secreta que tenéis en la plantilla, en concreto la variable word_secreta\n",
    "# Printead el mensaje para que la usuaria sleccione un value de la key seleccionada.\n",
    "# Printead el mensaje con el value seleccionado por la usuaria.\n",
    "# Printead el mensaje para saber si la usuaria adivino el mensaje\n",
    "# Printead si la opción elegida por la usuaria y la elegida por la máquina(word_secret) es igual o no. Nos deberá devolver True o False.\n",
    "# Printed el mensaje de finalización del juego."
   ]
  },
  {
   "cell_type": "code",
   "execution_count": null,
   "metadata": {},
   "outputs": [],
   "source": [
    "import random\n",
    "\n",
    "words = {'Colors':'red orange yellow green blue indigo violet white black brown'.split(),\n",
    "'Shapes':'square triangle rectangle circle ellipse rhombus trapezoid chevron pentagon hexagon septagon octagon'.split(),\n",
    "'Fruits':'apple orange lemon lime pear watermelon grape grapefruit cherry banana cantaloupe mango strawberry tomato'.split(),\n",
    "'Animals':'bat bear beaver cat cougar crab deer dog donkey duck eagle fish frog goat leech lion lizard monkey moose mouse otter owl panda python rabbit rat shark sheep skunk squid tiger turkey turtle weasel whale wolf wombat zebra'.split()}\n",
    "\n",
    "# Variables predefinidas\n",
    "\n",
    "# Inicio del juego\n",
    "\n",
    "# Elegir una categoria\n",
    "\n",
    "# El ordenador elige una palabra de la categoria\n",
    "word_list = #rellenad\n",
    "word_secreta = random.randint(0, len(word_list)-1)\n",
    "\n",
    "# Adivinar una palabra\n",
    "\n",
    "# Era la palabra aleatoria?\n",
    "\n",
    "# Fin del juego"
   ]
  }
 ],
 "metadata": {
  "language_info": {
   "name": "python"
  },
  "orig_nbformat": 4
 },
 "nbformat": 4,
 "nbformat_minor": 2
}
