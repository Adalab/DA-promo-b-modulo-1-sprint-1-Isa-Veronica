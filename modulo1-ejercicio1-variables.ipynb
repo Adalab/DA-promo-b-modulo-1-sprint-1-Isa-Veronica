{
 "cells": [
  {
   "cell_type": "code",
   "execution_count": null,
   "metadata": {},
   "outputs": [],
   "source": [
    "import math\n",
    "import random\n",
    "\n",
    "# Variables numéricas\n",
    "\n",
    "# Cadenas fijas de texto\n",
    "\n",
    "# User input\n",
    "\n",
    "# Cantidades calculadas\n",
    "intentos_permitidos = round(math.log(lim_superior - lim_inferior + 1,2))\n",
    "numero_secreto = random.randint(lim_inferior,lim_superior)\n",
    "\n",
    "# Inicio del juego\n",
    "\n",
    "# Adivinar 1 intento\n",
    "\n",
    "# Fin del juego"
   ]
  },
  {
   "cell_type": "code",
   "execution_count": null,
   "metadata": {},
   "outputs": [],
   "source": [
    "# Definir un variable de tipo string que de la bienvenida\n",
    "# Definir una variable usando el método input que pregunte al usuario por un número entre el 3 y el 6.\n",
    "# Definir una variable de tipo string que nos ponga Intento X: el número que paso el usuario en el paso anterior\n",
    "# Definir una tercera variable de tipo string con un mensaje donde incluyamos el número dado en el input y un mensaje de finalización de juego.\n",
    "\n",
    "# Añadir una variable numérica que empiece en 0 y que aumente con 1 después de que el usuario haya puesto un input, en el ejemplo el número 4.\n",
    "# Tener la puntuación en orden, no tener comas que sean adelantadas por un espacio, etc\n",
    "# Punto extra para el código más legible / ordenado."
   ]
  }
 ],
 "metadata": {
  "kernelspec": {
   "display_name": "Python 3.9.7 ('base')",
   "language": "python",
   "name": "python3"
  },
  "language_info": {
   "codemirror_mode": {
    "name": "ipython",
    "version": 3
   },
   "file_extension": ".py",
   "mimetype": "text/x-python",
   "name": "python",
   "nbconvert_exporter": "python",
   "pygments_lexer": "ipython3",
   "version": "3.9.7"
  },
  "orig_nbformat": 4,
  "vscode": {
   "interpreter": {
    "hash": "7ad202eda4b463b15866ae6aadf94c3d2752d74520fedda13d68ef6e8aba5314"
   }
  }
 },
 "nbformat": 4,
 "nbformat_minor": 2
}
