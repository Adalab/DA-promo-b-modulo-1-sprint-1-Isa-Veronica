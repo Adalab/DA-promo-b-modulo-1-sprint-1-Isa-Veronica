{
 "cells": [
  {
   "cell_type": "code",
   "execution_count": 8,
   "metadata": {},
   "outputs": [
    {
     "name": "stdout",
     "output_type": "stream",
     "text": [
      "('tu lista contiene', 4, 'elementos. El valor máximo de tu lista es', 25, 'el valor mínimo de tu lista es', 3)\n"
     ]
    }
   ],
   "source": [
    "import random\n",
    "\n",
    "# Variables numéricas\n",
    "lim_inferior = 2\n",
    "lim_superior = 25\n",
    "\n",
    "\n",
    "# Cadenas fijas de texto\n",
    "str_input = \"Lista de números, separado por espacios: \"\n",
    "\n",
    "propiedades_lista = \"tu lista contiene\" , len(num_list) , \"elementos. El valor máximo de tu lista es\" , max(num_list) , \"el valor mínimo de tu lista es\" , min(num_list)\n",
    "\n",
    "print(propiedades_lista)\n",
    "\n",
    "bienvenida = \"¡Comenzamos el juego!\"\n",
    "\n",
    "\n",
    "# User input\n",
    "num_list = list(int(num) for num in input(str_input).strip().split())\n",
    "\n",
    "# Cantidades calculadas\n",
    "numero_secreto = random.randint(lim_inferior,lim_superior)\n",
    "\n",
    "# Inicio del juego\n",
    "\n",
    "# Propiedades de la lista\n",
    "\n",
    "# Han adivinado el número secreto?\n",
    "\n",
    "# Fin del juego"
   ]
  },
  {
   "cell_type": "code",
   "execution_count": null,
   "metadata": {},
   "outputs": [],
   "source": [
    "# Definir dos variables numéricas llamadas lim_inferior y lim_superior. Pueden recibir cualquier valor.\n",
    "# Definir un variable de tipo string que de la bienvenida. Lo hicisteis en el pair programming de ayer.\n",
    "# Después de esto irá el código que tenéis en la plantilla de str_input y num_list\n",
    "# Después irá el código que tenéis en la plantilla de numero_secreto.\n",
    "# Sacar un mensaje donde aparezca la longitud de la lista del usuario y cuáles son los valores mínimo y máximo de la lista pasada por el usuario. NOTA: esta lista la hemos creado y almacenado en la variable num_list.\n",
    "# Chequear si el valor de la variable numero_secreto está contenido en la lista num_list\n",
    "# Un print que nos diga si el número secreto definido como numero_secreto está contenido en la lista de números pasados por el usuario. Es decir, un print con el resultado del paso anterior\n",
    "# Un print con un mensaje de finalización del juego. Lo tenéis hecho del ejericio de ayer."
   ]
  },
  {
   "cell_type": "code",
   "execution_count": 4,
   "metadata": {},
   "outputs": [
    {
     "name": "stdout",
     "output_type": "stream",
     "text": [
      "[3, 4, 7, 15, 25]\n"
     ]
    }
   ],
   "source": [
    "print(num_list)"
   ]
  }
 ],
 "metadata": {
  "kernelspec": {
   "display_name": "Python 3.9.7 ('base')",
   "language": "python",
   "name": "python3"
  },
  "language_info": {
   "codemirror_mode": {
    "name": "ipython",
    "version": 3
   },
   "file_extension": ".py",
   "mimetype": "text/x-python",
   "name": "python",
   "nbconvert_exporter": "python",
   "pygments_lexer": "ipython3",
   "version": "3.9.7"
  },
  "orig_nbformat": 4,
  "vscode": {
   "interpreter": {
    "hash": "0620710c65b0f5ccc651a2aa8870ae0eb4c70492424a8d7866846658189426a3"
   }
  }
 },
 "nbformat": 4,
 "nbformat_minor": 2
}
