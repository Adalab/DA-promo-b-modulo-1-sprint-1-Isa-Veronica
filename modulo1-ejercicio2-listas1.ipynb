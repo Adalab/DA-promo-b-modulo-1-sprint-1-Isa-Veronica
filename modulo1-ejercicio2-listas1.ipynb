{
 "cells": [
  {
   "cell_type": "code",
   "execution_count": 3,
   "metadata": {},
   "outputs": [],
   "source": [
    "import random\n",
    "\n",
    "# Variables numéricas\n",
    "\n",
    "# Cadenas fijas de texto\n",
    "\n",
    "# User input\n",
    "\n",
    "# Cantidades calculadas\n",
    "\n",
    "# Inicio del juego\n",
    "\n",
    "# Propiedades de la lista\n",
    "\n",
    "# Han adivinado el número secreto?\n",
    "\n",
    "# Fin del juego"
   ]
  },
  {
   "cell_type": "code",
   "execution_count": null,
   "metadata": {},
   "outputs": [],
   "source": [
    "# Definir dos variables numéricas llamadas lim_inferior y lim_superior. Pueden recibir cualquier valor.\n",
    "# Definir un variable de tipo string que de la bienvenida. Lo hicisteis en el pair programming de ayer.\n",
    "# Después de esto irá el código que tenéis en la plantilla de str_input y num_list\n",
    "# Después irá el código que tenéis en la plantilla de numero_secreto.\n",
    "# Sacar un mensaje donde aparezca la longitud de la lista del usuario y cuáles son los valores mínimo y máximo de la lista pasada por el usuario. NOTA: esta lista la hemos creado y almacenado en la variable num_list.\n",
    "# Chequear si el valor de la variable numero_secreto está contenido en la lista num_list\n",
    "# Un print que nos diga si el número secreto definido como numero_secreto está contenido en la lista de números pasados por el usuario. Es decir, un print con el resultado del paso anterior\n",
    "# Un print con un mensaje de finalización del juego. Lo tenéis hecho del ejericio de ayer."
   ]
  },
  {
   "cell_type": "code",
   "execution_count": null,
   "metadata": {},
   "outputs": [],
   "source": [
    "lim_inferior = 2\n",
    "lim_superior = 25\n",
    "\n",
    "str_input = \"Lista de números, separado por espacios: \"\n",
    "\n",
    "propiedades_lista = \"Tu lista contiene \" , len(num_list) , \" elementos. El valor máximo de tu lista es \" , max(num_list) , \"el valor mínimo de tu lista es\" , min(num_list)\n",
    "\n",
    "bienvenida = \"¡Comenzamos el juego!\"\n",
    "\n",
    "num_list = list(int(num) for num in input(str_input).strip().split())\n",
    "\n",
    "numero_secreto = random.randint(lim_inferior,lim_superior)\n",
    "\n",
    "numero_secreto in num_list\n",
    "\n",
    "final = \"¡Has terminado el juego!\"\n"
   ]
  },
  {
   "cell_type": "code",
   "execution_count": null,
   "metadata": {},
   "outputs": [],
   "source": [
    "print(bienvenida)\n",
    "print(num_list)\n",
    "print(propiedades_lista)\n",
    "print(\"El número secreto está dentro de la lista que has insertado: \" , numero_secreto in num_list)\n",
    "print(final)"
   ]
  }
 ],
 "metadata": {
  "kernelspec": {
   "display_name": "Python 3.9.7 ('base')",
   "language": "python",
   "name": "python3"
  },
  "language_info": {
   "codemirror_mode": {
    "name": "ipython",
    "version": 3
   },
   "file_extension": ".py",
   "mimetype": "text/x-python",
   "name": "python",
   "nbconvert_exporter": "python",
   "pygments_lexer": "ipython3",
   "version": "3.9.7"
  },
  "orig_nbformat": 4,
  "vscode": {
   "interpreter": {
    "hash": "7ad202eda4b463b15866ae6aadf94c3d2752d74520fedda13d68ef6e8aba5314"
   }
  }
 },
 "nbformat": 4,
 "nbformat_minor": 2
}
