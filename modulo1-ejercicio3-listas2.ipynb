{
 "cells": [
  {
   "cell_type": "code",
   "execution_count": null,
   "metadata": {},
   "outputs": [],
   "source": [
    "import random\n",
    "\n",
    "# Variables numéricas\n",
    "index = -1\n",
    "lim_inferior = 2\n",
    "lim_superior = 25\n",
    "longitud_lista = 15\n",
    "\n",
    "\n",
    "# Cadenas fijas de texto\n",
    "bienvenida = \"¡Comenzamos el juego!, ¿estás preparada?\"\n",
    "\n",
    "\n",
    "\n",
    "# User input\n",
    "intento = input(\"escribe un número del 2 al 25\")\n",
    "\n",
    "# Cantidades calculadas\n",
    "num_list = random.sample(range(lim_inferior, lim_superior), longitud_lista)\n",
    "\n",
    "# Inicio del juego\n",
    "print(bienvenida)\n",
    "print(propiedades_lista = \"Tu lista contiene \" , len(num_list) , \" elementos. El valor máximo de tu lista es \" , max(num_list) , \"el valor mínimo de tu lista es\" , min(num_list))\n",
    "print(intento)\n",
    "print(\"¿Has adivinado la lista?\")\n",
    "print(\"El número secreto está dentro de la lista que has insertado: \" , intento in num_list)\n",
    "\n",
    "\n",
    "\n",
    "\n",
    "# Propiedades de la lista aleatoria\n",
    "\n",
    "# Han adivinado un elemento?\n",
    "\n",
    "# Si adivinaron uno, dónde estaba?\n",
    "if num_list.count(intento): index = indice\n",
    "if index >= 0: print(\"Estaba en el sitio\", indice_humano + \", índice\", str(index)+\".\")\n",
    "\n",
    "# Fin del juego"
   ]
  },
  {
   "cell_type": "code",
   "execution_count": null,
   "metadata": {},
   "outputs": [],
   "source": [
    "### Pasos a seguir para alcanzar los objetivos del pair programming de hoy:\n",
    "\n",
    "# Además de la variable que ya tenéis definida en la plantilla de index = -1 tendréis que crear tres variables numéricas más:\n",
    "# Una indicando el límite inferior, la tenéis en el pair de ayer.\n",
    "# Una indicando el límite superior, la tenéis en el pair de ayer.\n",
    "# Una última índicando la longitud que vamos a querer de la lista, puede ser cualquier número entero.\n",
    "# Definir un string con un mensaje de bienvenida, lo podremos reutilizar de pairs anteriores.\n",
    "# Definir una variable (llamadla intento) usando un input donde le preguntemos al usuario por un número. Podemos reutilizar este código de pairs anteriores\n",
    "# Introducir la línea de código que tenéis en la plantilla de num_list\n",
    "# Iniciamos el juego con:\n",
    "    #print con el mensaje de bienvenida.\n",
    "    # print con las propiedades de la lista de números, la lista num_list. Cual es la longitud, el valor máximo y el mínimo. Lo podemos reciclar del pair de ayer.\n",
    "    # print con el número que introdujo el usuario en el input, es decir, la variable input.\n",
    "    # print con un mensaje (el que vosotras queráis), por ejemplo: ¿Adivinaste el número?\n",
    "    # print que devuelva un booleano donde sepamos si el input (intento) del usaurio estaba en la lista num_list. Lo tenéis en el pair de ayer.\n",
    "\n",
    "#Almacenad en una variable (llamadla \"indice\") el índice del número que pasó en el usuario. El índice de la variable intento\n",
    "# Almacenad en una variable (llamadla \"indice_humano\") que nos diga la posición del numero almacenado en intento. Es decir, si es el elemento 0 de Python, corresponderá a indice_humano = 1.\n",
    "# Código que tenéis en la plantilla donde tenéis el if\n",
    "# Un print con mensaje de finalización del juego."
   ]
  }
 ],
 "metadata": {
  "language_info": {
   "name": "python"
  },
  "orig_nbformat": 4
 },
 "nbformat": 4,
 "nbformat_minor": 2
}
